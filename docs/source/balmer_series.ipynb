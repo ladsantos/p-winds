{
 "cells": [
  {
   "cell_type": "markdown",
   "id": "d5bc612e-a199-4fa3-96c8-12995e48702a",
   "metadata": {
    "collapsed": true,
    "jupyter": {
     "outputs_hidden": true
    }
   },
   "source": [
    "# Balmer-series Hydrogen\n",
    "\n",
    "In this notebook you will learn the basics of using `p-winds` to model the upper atmosphere (up to many planetary radii) of a H/He-dominated planet and the transit signal in the Balmer-series Hydrogen-$\\alpha$ (H$\\alpha$) line based on an atmospheric escape model.\n",
    "\n",
    "The H$\\alpha$ population is calculated based on the formulation of [Wyttenbach et al. (2020)](https://ui.adsabs.harvard.edu/abs/2020A%26A...638A..87W/abstract) and it was implemented by [Dr. Julia Seidel](https://juliaseidel4.wixsite.com/jvseidel). Thank you, Julia!"
   ]
  },
  {
   "cell_type": "code",
   "execution_count": null,
   "id": "fb61ff9b-c0d9-4701-b2bb-9a5bafe61673",
   "metadata": {},
   "outputs": [],
   "source": [
    "import numpy as np\n",
    "import matplotlib.pyplot as plt\n",
    "import matplotlib.pylab as pylab\n",
    "import astropy.units as u\n",
    "from p_winds import tools, parker, hydrogen, transit, lines\n",
    "\n",
    "pylab.rcParams['figure.figsize'] = 9.0,6.5\n",
    "pylab.rcParams['font.size'] = 18"
   ]
  },
  {
   "cell_type": "markdown",
   "id": "98d56641-a784-4413-ab34-377f8ff1c232",
   "metadata": {},
   "source": [
    "Similarly to the quickstart example, we start by setting the planetary and stellar parameters of HD 209458 b. We will assume that our planet has an isothermal upper atmosphere with temperature of $9\\,100$ K and a total mass loss rate of $2 \\times 10^{10}$ g s$^{-1}$ based on the results from [Salz et al. 2016](https://ui.adsabs.harvard.edu/abs/2016A%26A...586A..75S/abstract). We will also assume: \n",
    "* The atmosphere is made up of only H and He\n",
    "* The H number fraction is $0.9$\n",
    "* Initially a fully neutral atmosphere (this is going to be self-consistently calculated later)."
   ]
  },
  {
   "cell_type": "code",
   "execution_count": null,
   "id": "6e759adb-49e1-4db0-9c31-5c9a11ef3ddf",
   "metadata": {},
   "outputs": [],
   "source": [
    "# HD 209458 b planetary parameters, measured\n",
    "R_pl = 1.39  # Planetary radius in Jupiter radii\n",
    "M_pl = 0.73  # Planetary mass in Jupiter masses\n",
    "impact_parameter = 0.499  # Transit impact parameter\n",
    "a_pl = 0.04634  # Orbital semi-major axis in astronomical units\n",
    "\n",
    "# HD 209458 stellar parameters\n",
    "R_star = 1.20  # Stellar radius in solar radii\n",
    "M_star = 1.07  # Stellar mass in solar masses\n",
    "\n",
    "# A few assumptions about the planet's atmosphere\n",
    "m_dot = 10 ** 10.27  # Total atmospheric escape rate in g / s\n",
    "T_0 = 9100  # Wind temperature in K\n",
    "h_fraction = 0.90  # H number fraction\n",
    "he_fraction = 1 - h_fraction  # He number fraction\n",
    "he_h_fraction = he_fraction / h_fraction\n",
    "mean_f_ion = 0.0  # Mean ionization fraction (will be self-consistently calculated later)\n",
    "mu_0 = (1 + 4 * he_h_fraction) / (1 + he_h_fraction + mean_f_ion)  \n",
    "# mu_0 is the constant mean molecular weight (assumed for now, will be updated later)"
   ]
  },
  {
   "cell_type": "markdown",
   "id": "53f394c9-a3f9-4e8d-9572-3c3884705683",
   "metadata": {},
   "source": [
    "Next, we retrieve the high-energy spectrum of the host star with fluxes at the planet. For this example, we use the solar spectrum for convenience."
   ]
  },
  {
   "cell_type": "code",
   "execution_count": null,
   "id": "add980c6-8554-4d18-a550-16db8d68ba78",
   "metadata": {},
   "outputs": [],
   "source": [
    "units = {'wavelength': u.angstrom, 'flux': u.erg / u.s / u.cm ** 2 / u.angstrom}\n",
    "spectrum = tools.make_spectrum_from_file('../../data/solar_spectrum_scaled_lambda.dat',\n",
    "                                    units)\n",
    "plt.loglog(spectrum['wavelength'], spectrum['flux_lambda'])\n",
    "plt.ylim(1E-5, 1E4)\n",
    "plt.xlabel(r'Wavelength (${\\rm \\AA}$)')\n",
    "plt.ylabel(r'Flux density (erg s$^{-1}$ cm$^{-2}$ ${\\rm \\AA}^{-1}$)')\n",
    "plt.show()"
   ]
  },
  {
   "cell_type": "markdown",
   "id": "daccbbfe-725b-47ac-a510-fcdf43c25e97",
   "metadata": {},
   "source": [
    "Now we can calculate the distribution of ionized/neutral hydrogen and the structure of the upper atmosphere."
   ]
  },
  {
   "cell_type": "code",
   "execution_count": null,
   "id": "56c72d34-3472-449a-adcc-e67de3e8ba0b",
   "metadata": {},
   "outputs": [],
   "source": [
    "initial_f_ion = 0.0\n",
    "r = np.logspace(0, np.log10(20), 100)  # Radial distance profile in unit of planetary radii\n",
    "\n",
    "f_r, mu_bar = hydrogen.ion_fraction(r, R_pl, T_0, h_fraction, \n",
    "                            m_dot, M_pl, mu_0, star_mass=M_star, \n",
    "                            semimajor_axis=a_pl,\n",
    "                            spectrum_at_planet=spectrum, exact_phi=True,\n",
    "                            initial_f_ion=initial_f_ion, relax_solution=True,\n",
    "                            return_mu=True)\n",
    "\n",
    "vs = parker.sound_speed(T_0, mu_bar)  # Speed of sound (km/s, assumed to be constant)\n",
    "rs = parker.radius_sonic_point_tidal(M_pl, vs, M_star, a_pl)  # Radius at the sonic point (jupiterRad)\n",
    "rhos = parker.density_sonic_point(m_dot, rs, vs)  # Density at the sonic point (g/cm^3)\n",
    "\n",
    "r_array = r * R_pl / rs\n",
    "v_array, rho_array = parker.structure_tidal(r_array, vs, rs, M_pl, M_star, a_pl)"
   ]
  },
  {
   "cell_type": "markdown",
   "id": "92a8ebaa-f268-4cf6-8667-cc27667566fb",
   "metadata": {},
   "source": [
    "In the next step, we calculate the distribution of H atoms in the H$\\alpha$ transition (with an electron transitioning from state $n=3$ to $n=2$). To this end, we need the electron density in unit cm$^{-3}$, the neutral H number density in SI units, and the properties of the transition, which we get from the `lines` module."
   ]
  },
  {
   "cell_type": "code",
   "execution_count": null,
   "id": "0660a0d9-3bf3-49a9-a08c-4a6fbc2490b4",
   "metadata": {},
   "outputs": [],
   "source": [
    "m_H = 1.008 * 1.67262192369e-24  # Hydrogen atomic mass in kg\n",
    "\n",
    "# We assume that all electrons come from H ionization, so their number \n",
    "# density is the same as the density of ionized H\n",
    "n_e = (rho_array * rhos * h_fraction / (h_fraction + 4 * he_fraction) / m_H) * f_r * (1 / u.cm ** 3)\n",
    "\n",
    "# Get the transition properties\n",
    "lambda_alpha, n_alpha, f_alpha, g_alpha, a_alpha = lines.balmer_halpha_properties()\n",
    "\n",
    "# Neutral H number density in SI units\n",
    "n_H_0 = (rho_array * rhos * h_fraction / (h_fraction + 4 * he_fraction) / m_H)\n",
    "n_H_0_SI = n_H_0 * 1E6"
   ]
  },
  {
   "cell_type": "markdown",
   "id": "87495872-8c51-4a2e-8991-5046f057a132",
   "metadata": {},
   "source": [
    "The radial distribution of H$\\alpha$ particles is given by the number density of neutral H multiplied by a scaling factor calculated using the Boltzmann and Saha equations. These are computer under the hood of the `hydrogen.halpha_scale()` function, as seen in the next cell."
   ]
  },
  {
   "cell_type": "code",
   "execution_count": null,
   "id": "53466ee5-b096-40fa-9c98-ee2b46866cdd",
   "metadata": {},
   "outputs": [],
   "source": [
    "n_H_2n_scale = hydrogen.balmer_fraction(T_0, n_e, g_alpha, n_alpha)\n",
    "n_H_2n = n_H_2n_scale * n_H_0_SI\n",
    "\n",
    "plt.semilogy(r_array, n_H_2n)\n",
    "plt.xlabel(r'Radius (R$_\\mathrm{pl}$)')\n",
    "plt.ylabel(r'H$\\alpha$ number density (cm$^{-3}$)')"
   ]
  },
  {
   "cell_type": "markdown",
   "id": "3feb262c-5bab-439a-bced-db3974b2b47a",
   "metadata": {},
   "source": "Now that we have the 1-D profile of volumetric densities of the H$\\alpha$, we can calculate the spectroscopic transit signal using simplified ray tracing and radiative transfer. For now we will assume an impact factor of zero (so the planet is in the dead center of the star) and also a phase of zero (so the planet is at mid-transit phase). The phases of $-0.5$ and $+0.5$ correspond to the ingress and egress."
  },
  {
   "cell_type": "code",
   "execution_count": null,
   "id": "35094975-9de3-47a7-aef4-fdec3a75720d",
   "metadata": {},
   "outputs": [],
   "source": [
    "# First convert everything to SI units because they make our lives\n",
    "# much easier.\n",
    "R_pl_physical = R_pl * 71492000  # Planet radius in m\n",
    "r_SI = r * R_pl_physical  # Array of altitudes in m\n",
    "v_SI = v_array * vs * 1000  # Velocity of the outflow in m / s\n",
    "n_H_2n_SI = n_H_2n * 1E6  # Volumetric densities in 1 / m ** 3\n",
    "planet_to_star_ratio = 0.12086\n",
    "\n",
    "# Set up the ray tracing. We will use a coarse 100-px grid size,\n",
    "# but we use supersampling to avoid hard pixel edges.\n",
    "flux_map, t_depth, r_from_planet = transit.draw_transit(\n",
    "    planet_to_star_ratio, \n",
    "    planet_physical_radius=R_pl_physical, \n",
    "    impact_parameter=impact_parameter, \n",
    "    phase=0.0,\n",
    "    supersampling=10,\n",
    "    grid_size=100)"
   ]
  },
  {
   "cell_type": "markdown",
   "id": "162444b2-a34b-4445-8d56-7e4fce79ac65",
   "metadata": {},
   "source": [
    "Now we can finally calculate the transmission spectrum using the `transit.radiative_transfer_2d()` function."
   ]
  },
  {
   "cell_type": "code",
   "execution_count": null,
   "id": "e8b48989-c07d-454b-bfc5-acff552fae9a",
   "metadata": {},
   "outputs": [],
   "source": [
    "wl = np.linspace(0.656155, 0.656395, 200) * 1E-6  # Wavelengths in m\n",
    "\n",
    "spectrum = transit.radiative_transfer_2d(flux_map, r_from_planet, r_SI, n_H_2n_SI, \n",
    "                                         v_SI, lambda_alpha, f_alpha, a_alpha, \n",
    "                                         wl, T_0, m_H, wind_broadening_method='formal')\n",
    "\n",
    "plt.plot(wl * 1E10, spectrum)\n",
    "plt.xlabel(r'Wavelength in air (${\\rm \\AA}$)')\n",
    "plt.ylabel('Normalized flux')\n",
    "plt.show()"
   ]
  }
 ],
 "metadata": {
  "kernelspec": {
   "display_name": "Python 3 (ipykernel)",
   "language": "python",
   "name": "python3"
  },
  "language_info": {
   "codemirror_mode": {
    "name": "ipython",
    "version": 3
   },
   "file_extension": ".py",
   "mimetype": "text/x-python",
   "name": "python",
   "nbconvert_exporter": "python",
   "pygments_lexer": "ipython3",
   "version": "3.9.18"
  }
 },
 "nbformat": 4,
 "nbformat_minor": 5
}
